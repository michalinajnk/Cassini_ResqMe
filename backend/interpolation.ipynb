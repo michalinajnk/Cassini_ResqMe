{
  "nbformat": 4,
  "nbformat_minor": 0,
  "metadata": {
    "colab": {
      "provenance": [],
      "toc_visible": true
    },
    "kernelspec": {
      "name": "python3",
      "display_name": "Python 3"
    },
    "language_info": {
      "name": "python"
    }
  },
  "cells": [
    {
      "cell_type": "code",
      "execution_count": 3,
      "metadata": {
        "id": "HW2579BYMt6_"
      },
      "outputs": [],
      "source": [
        "import cv2\n",
        "import numpy as np\n",
        "from google.colab.patches import cv2_imshow\n",
        "\n",
        "def interpolate_green_areas(image1, image2, alpha=0.5):\n",
        "    \"\"\"\n",
        "    Funkcja interpoluje obszar zielony z image1 do image2, rozszerzając obszar zielony\n",
        "    w image2 zgodnie z wartością alpha.\n",
        "    \"\"\"\n",
        "    # Konwersja obrazów do przestrzeni HSV\n",
        "    hsv1 = cv2.cvtColor(image1, cv2.COLOR_BGR2HSV)\n",
        "    hsv2 = cv2.cvtColor(image2, cv2.COLOR_BGR2HSV)\n",
        "\n",
        "    # Zakres zielonego w przestrzeni HSV\n",
        "    lower_green = np.array([0, 50, 50])  # Zmniejszenie minimalnego nasycenia, aby obejmowało także brązowe odcienie\n",
        "    upper_green = np.array([20, 255, 255])  # Rozszerzenie do większego zakresu odcieni czerwieni\n",
        "\n",
        "\n",
        "    # Tworzenie masek dla zielonego koloru\n",
        "    mask1 = cv2.inRange(hsv1, lower_green, upper_green)\n",
        "    mask2 = cv2.inRange(hsv2, lower_green, upper_green)\n",
        "\n",
        "    # Zwiększanie obszaru zielonego na masce image1 (stopniowo)\n",
        "    kernel = np.ones((20, 20), np.uint8)  # Rozmiar struktury do rozszerzania\n",
        "    expanded_mask1 = cv2.dilate(mask1, kernel, iterations=int(alpha * 10))  # Zwiększanie obszaru zielonego\n",
        "\n",
        "    # Interpolacja między maskami\n",
        "    mask_interpolated = cv2.addWeighted(expanded_mask1, 1 - alpha, mask2, alpha, 0)\n",
        "\n",
        "    # Stosowanie maski do obrazu (zmiana na zielony)\n",
        "    result = image1.copy()\n",
        "    result[mask_interpolated == 255] = image2[mask_interpolated == 255]  # Zmiana na zielony (BGR)\n",
        "\n",
        "    return result\n",
        "\n",
        "# Wczytanie obrazów\n",
        "image1 = cv2.imread('before.jpg')\n",
        "image2 = cv2.imread('after.jpg')\n",
        "\n",
        "# Liczba obrazów do wygenerowania\n",
        "num_images = 10\n",
        "\n",
        "# Wartości alpha od 0 do 1\n",
        "alpha_values = np.linspace(0, 1, num_images)\n",
        "\n",
        "# Generowanie obrazów przejścia\n",
        "for i, alpha in enumerate(alpha_values):\n",
        "    interpolated_image = interpolate_green_areas(image1, image2, alpha=alpha)\n",
        "\n",
        "    # Zapisz obraz\n",
        "    cv2.imwrite(f'interpolated_image_{i+1}.jpg', interpolated_image)\n",
        "\n"
      ]
    },
    {
      "cell_type": "code",
      "source": [
        "# Liczba obrazów do wygenerowania\n",
        "num_images = 10\n",
        "\n",
        "# Wartości alpha od 0 do 1\n",
        "alpha_values = np.linspace(0, 1, num_images)\n",
        "\n",
        "# Generowanie obrazów przejścia\n",
        "for i, alpha in enumerate(alpha_values):\n",
        "    interpolated_image = interpolate_red_areas(image1, image2, alpha=alpha)\n",
        "\n",
        "    # Zapisz obraz\n",
        "    cv2.imwrite(f'interpolated_image_{i+1}.jpg', interpolated_image)\n",
        "\n"
      ],
      "metadata": {
        "id": "EaGeWC71QLMP"
      },
      "execution_count": 13,
      "outputs": []
    }
  ]
}